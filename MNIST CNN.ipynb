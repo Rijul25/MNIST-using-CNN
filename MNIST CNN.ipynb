{
 "cells": [
  {
   "cell_type": "code",
   "execution_count": 1,
   "metadata": {},
   "outputs": [],
   "source": [
    "from keras.layers import *\n",
    "from keras.models import Sequentialtial"
   ]
  },
  {
   "cell_type": "code",
   "execution_count": 6,
   "metadata": {},
   "outputs": [],
   "source": [
    "model=Sequential()\n",
    "model.add(Conv2D(32,(3,3),activation='relu',input_shape=(28,28,1)))\n",
    "model.add(MaxPool2D((2,2)))\n",
    "model.add(Conv2D(64,(3,3),activation='relu',input_shape=(28,28,1)))\n",
    "model.add(MaxPool2D((2,2)))\n",
    "model.add(Conv2D(64,(3,3),activation='relu',input_shape=(28,28,1)))\n",
    "model.add(Flatten())\n",
    "model.add(Dense(64,activation='relu'))\n",
    "model.add(Dense(10,activation='softmax'))\n"
   ]
  },
  {
   "cell_type": "code",
   "execution_count": 7,
   "metadata": {},
   "outputs": [
    {
     "name": "stdout",
     "output_type": "stream",
     "text": [
      "_________________________________________________________________\n",
      "Layer (type)                 Output Shape              Param #   \n",
      "=================================================================\n",
      "conv2d_7 (Conv2D)            (None, 26, 26, 32)        320       \n",
      "_________________________________________________________________\n",
      "max_pooling2d_6 (MaxPooling2 (None, 13, 13, 32)        0         \n",
      "_________________________________________________________________\n",
      "conv2d_8 (Conv2D)            (None, 11, 11, 64)        18496     \n",
      "_________________________________________________________________\n",
      "max_pooling2d_7 (MaxPooling2 (None, 5, 5, 64)          0         \n",
      "_________________________________________________________________\n",
      "conv2d_9 (Conv2D)            (None, 3, 3, 64)          36928     \n",
      "_________________________________________________________________\n",
      "flatten_2 (Flatten)          (None, 576)               0         \n",
      "_________________________________________________________________\n",
      "dense_1 (Dense)              (None, 64)                36928     \n",
      "_________________________________________________________________\n",
      "dense_2 (Dense)              (None, 10)                650       \n",
      "=================================================================\n",
      "Total params: 93,322\n",
      "Trainable params: 93,322\n",
      "Non-trainable params: 0\n",
      "_________________________________________________________________\n"
     ]
    }
   ],
   "source": [
    "model.summary()"
   ]
  },
  {
   "cell_type": "markdown",
   "metadata": {},
   "source": [
    "# Load the dataset\n"
   ]
  },
  {
   "cell_type": "code",
   "execution_count": 22,
   "metadata": {},
   "outputs": [],
   "source": [
    "from keras.datasets import mnist\n",
    "from keras.utils import to_categorical"
   ]
  },
  {
   "cell_type": "code",
   "execution_count": 23,
   "metadata": {},
   "outputs": [],
   "source": [
    "(XTrain,YTrain),(XTest,YTest)=mnist.load_data()"
   ]
  },
  {
   "cell_type": "code",
   "execution_count": 24,
   "metadata": {},
   "outputs": [
    {
     "name": "stdout",
     "output_type": "stream",
     "text": [
      "(60000, 28, 28)\n"
     ]
    }
   ],
   "source": [
    "print(XTrain.shape)"
   ]
  },
  {
   "cell_type": "code",
   "execution_count": 25,
   "metadata": {},
   "outputs": [],
   "source": [
    "def preprocessData(X,Y):\n",
    "    X=X.reshape((-1,28,28,1))\n",
    "    X=X/255.0\n",
    "    Y=to_categorical(Y)\n",
    "    return X,Y"
   ]
  },
  {
   "cell_type": "code",
   "execution_count": 26,
   "metadata": {},
   "outputs": [
    {
     "name": "stdout",
     "output_type": "stream",
     "text": [
      "(60000, 28, 28, 1) (60000, 10)\n"
     ]
    }
   ],
   "source": [
    "XTrain,YTrain=preprocessData(XTrain,YTrain)\n",
    "print(XTrain.shape,YTrain.shape)"
   ]
  },
  {
   "cell_type": "code",
   "execution_count": 27,
   "metadata": {},
   "outputs": [
    {
     "name": "stdout",
     "output_type": "stream",
     "text": [
      "(10000, 28, 28, 1) (10000, 10)\n"
     ]
    }
   ],
   "source": [
    "XTest,YTest=preprocessData(XTest,YTest)\n",
    "print(XTest.shape,YTest.shape)"
   ]
  },
  {
   "cell_type": "code",
   "execution_count": 28,
   "metadata": {},
   "outputs": [
    {
     "name": "stdout",
     "output_type": "stream",
     "text": [
      "WARNING:tensorflow:From /usr/local/lib/python3.7/site-packages/keras/backend/tensorflow_backend.py:2885: calling reduce_sum (from tensorflow.python.ops.math_ops) with keep_dims is deprecated and will be removed in a future version.\n",
      "Instructions for updating:\n",
      "keep_dims is deprecated, use keepdims instead\n",
      "WARNING:tensorflow:From /usr/local/lib/python3.7/site-packages/keras/backend/tensorflow_backend.py:1349: calling reduce_mean (from tensorflow.python.ops.math_ops) with keep_dims is deprecated and will be removed in a future version.\n",
      "Instructions for updating:\n",
      "keep_dims is deprecated, use keepdims instead\n"
     ]
    }
   ],
   "source": [
    "model.compile(optimizer='adam',loss='categorical_crossentropy',metrics=['accuracy'])"
   ]
  },
  {
   "cell_type": "code",
   "execution_count": 31,
   "metadata": {},
   "outputs": [
    {
     "name": "stdout",
     "output_type": "stream",
     "text": [
      "Train on 54000 samples, validate on 6000 samples\n",
      "Epoch 1/20\n",
      "54000/54000 [==============================] - 20s 368us/step - loss: 0.0042 - acc: 0.9984 - val_loss: 0.0094 - val_acc: 0.9975\n",
      "Epoch 2/20\n",
      "54000/54000 [==============================] - 19s 353us/step - loss: 0.0061 - acc: 0.9979 - val_loss: 0.0092 - val_acc: 0.9978\n",
      "Epoch 3/20\n",
      "54000/54000 [==============================] - 19s 353us/step - loss: 0.0027 - acc: 0.9991 - val_loss: 0.0048 - val_acc: 0.9990\n",
      "Epoch 4/20\n",
      "54000/54000 [==============================] - 19s 358us/step - loss: 5.1726e-04 - acc: 0.9998 - val_loss: 0.0082 - val_acc: 0.9980\n",
      "Epoch 5/20\n",
      "54000/54000 [==============================] - 19s 357us/step - loss: 0.0038 - acc: 0.9988 - val_loss: 0.0149 - val_acc: 0.9963\n",
      "Epoch 6/20\n",
      "54000/54000 [==============================] - 19s 346us/step - loss: 0.0060 - acc: 0.9979 - val_loss: 0.0154 - val_acc: 0.9965\n",
      "Epoch 7/20\n",
      "54000/54000 [==============================] - 113s 2ms/step - loss: 0.0030 - acc: 0.9990 - val_loss: 0.0080 - val_acc: 0.9983\n",
      "Epoch 8/20\n",
      "54000/54000 [==============================] - 22s 407us/step - loss: 0.0040 - acc: 0.9990 - val_loss: 0.0067 - val_acc: 0.9988\n",
      "Epoch 9/20\n",
      "54000/54000 [==============================] - 22s 405us/step - loss: 0.0024 - acc: 0.9992 - val_loss: 0.0100 - val_acc: 0.9968\n",
      "Epoch 10/20\n",
      "54000/54000 [==============================] - 21s 398us/step - loss: 0.0036 - acc: 0.9987 - val_loss: 0.0240 - val_acc: 0.9943\n",
      "Epoch 11/20\n",
      "54000/54000 [==============================] - 22s 400us/step - loss: 0.0039 - acc: 0.9987 - val_loss: 0.0111 - val_acc: 0.9968\n",
      "Epoch 12/20\n",
      "54000/54000 [==============================] - 20s 378us/step - loss: 0.0014 - acc: 0.9997 - val_loss: 0.0121 - val_acc: 0.9972\n",
      "Epoch 13/20\n",
      "54000/54000 [==============================] - 19s 344us/step - loss: 0.0050 - acc: 0.9983 - val_loss: 0.0057 - val_acc: 0.9987\n",
      "Epoch 14/20\n",
      "54000/54000 [==============================] - 19s 346us/step - loss: 0.0014 - acc: 0.9995 - val_loss: 0.0113 - val_acc: 0.9972\n",
      "Epoch 15/20\n",
      "54000/54000 [==============================] - 20s 369us/step - loss: 0.0021 - acc: 0.9991 - val_loss: 0.0131 - val_acc: 0.9972\n",
      "Epoch 16/20\n",
      "54000/54000 [==============================] - 20s 375us/step - loss: 0.0030 - acc: 0.9989 - val_loss: 0.0209 - val_acc: 0.9957\n",
      "Epoch 17/20\n",
      "54000/54000 [==============================] - 21s 397us/step - loss: 0.0024 - acc: 0.9992 - val_loss: 0.0135 - val_acc: 0.9968\n",
      "Epoch 18/20\n",
      "54000/54000 [==============================] - 20s 362us/step - loss: 0.0041 - acc: 0.9986 - val_loss: 0.0261 - val_acc: 0.9952\n",
      "Epoch 19/20\n",
      "54000/54000 [==============================] - 21s 382us/step - loss: 0.0021 - acc: 0.9994 - val_loss: 0.0103 - val_acc: 0.9973\n",
      "Epoch 20/20\n",
      "54000/54000 [==============================] - 20s 371us/step - loss: 0.0021 - acc: 0.9994 - val_loss: 0.0171 - val_acc: 0.9963\n"
     ]
    }
   ],
   "source": [
    "hist=model.fit(XTrain,YTrain,epochs=20,batch_size=128,validation_split=0.1)"
   ]
  },
  {
   "cell_type": "code",
   "execution_count": 32,
   "metadata": {},
   "outputs": [
    {
     "name": "stdout",
     "output_type": "stream",
     "text": [
      "10000/10000 [==============================] - 1s 114us/step\n"
     ]
    },
    {
     "data": {
      "text/plain": [
       "[0.045778110556367164, 0.9927]"
      ]
     },
     "execution_count": 32,
     "metadata": {},
     "output_type": "execute_result"
    }
   ],
   "source": [
    "model.evaluate(XTest,YTest)"
   ]
  },
  {
   "cell_type": "code",
   "execution_count": 33,
   "metadata": {},
   "outputs": [],
   "source": [
    "from matplotlib import pyplot as plt"
   ]
  },
  {
   "cell_type": "code",
   "execution_count": 36,
   "metadata": {},
   "outputs": [
    {
     "name": "stderr",
     "output_type": "stream",
     "text": [
      "/usr/local/lib/python3.7/site-packages/matplotlib/text.py:1190: FutureWarning: elementwise comparison failed; returning scalar instead, but in the future will perform elementwise comparison\n",
      "  if s != self._text:\n"
     ]
    },
    {
     "data": {
      "image/png": "[encoded data removed]",
      "text/plain": [
       "<Figure size 432x288 with 1 Axes>"
      ]
     },
     "metadata": {
      "needs_background": "light"
     },
     "output_type": "display_data"
    },
    {
     "data": {
      "image/png": "[encoded data removed]",
      "text/plain": [
       "<Figure size 432x288 with 1 Axes>"
      ]
     },
     "metadata": {
      "needs_background": "light"
     },
     "output_type": "display_data"
    },
    {
     "data": {
      "image/png": "[encoded data removed]",
      "text/plain": [
       "<Figure size 432x288 with 1 Axes>"
      ]
     },
     "metadata": {
      "needs_background": "light"
     },
     "output_type": "display_data"
    },
    {
     "data": {
      "image/png": "[encoded data removed]",
      "text/plain": [
       "<Figure size 432x288 with 1 Axes>"
      ]
     },
     "metadata": {
      "needs_background": "light"
     },
     "output_type": "display_data"
    },
    {
     "data": {
      "image/png": "[encoded data removed]",
      "text/plain": [
       "<Figure size 432x288 with 1 Axes>"
      ]
     },
     "metadata": {
      "needs_background": "light"
     },
     "output_type": "display_data"
    },
    {
     "data": {
      "image/png": "[encoded data removed]",
      "text/plain": [
       "<Figure size 432x288 with 1 Axes>"
      ]
     },
     "metadata": {
      "needs_background": "light"
     },
     "output_type": "display_data"
    },
    {
     "data": {
      "image/png": "[encoded data removed]",
      "text/plain": [
       "<Figure size 432x288 with 1 Axes>"
      ]
     },
     "metadata": {
      "needs_background": "light"
     },
     "output_type": "display_data"
    },
    {
     "data": {
      "image/png": "[encoded data removed]",
      "text/plain": [
       "<Figure size 432x288 with 1 Axes>"
      ]
     },
     "metadata": {
      "needs_background": "light"
     },
     "output_type": "display_data"
    },
    {
     "data": {
      "image/png": "[encoded data removed]",
      "text/plain": [
       "<Figure size 432x288 with 1 Axes>"
      ]
     },
     "metadata": {
      "needs_background": "light"
     },
     "output_type": "display_data"
    },
    {
     "data": {
      "image/png": "[encoded data removed]",
      "text/plain": [
       "<Figure size 432x288 with 1 Axes>"
      ]
     },
     "metadata": {
      "needs_background": "light"
     },
     "output_type": "display_data"
    }
   ],
   "source": [
    "for i in range(10):\n",
    "    plt.imshow(XTest[i].reshape((28,28)))\n",
    "    plt.title(YTest[i])\n",
    "    plt.show()"
   ]
  },
  {
   "cell_type": "markdown",
   "metadata": {},
   "source": [
    "# So we get the correct results.! "
   ]
  }
 ],
 "metadata": {
  "kernelspec": {
   "display_name": "Python 3",
   "language": "python",
   "name": "python3"
  },
  "language_info": {
   "codemirror_mode": {
    "name": "ipython",
    "version": 3
   },
   "file_extension": ".py",
   "mimetype": "text/x-python",
   "name": "python",
   "nbconvert_exporter": "python",
   "pygments_lexer": "ipython3",
   "version": "3.7.3"
  }
 },
 "nbformat": 4,
 "nbformat_minor": 2
}
